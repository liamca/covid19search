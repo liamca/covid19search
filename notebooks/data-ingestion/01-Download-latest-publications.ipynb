{
 "cells": [
  {
   "cell_type": "code",
   "execution_count": 15,
   "metadata": {},
   "outputs": [],
   "source": [
    "import globals\n",
    "\n",
    "import os\n",
    "import urllib\n",
    "import urllib.request as request\n",
    "from contextlib import closing\n",
    "\n",
    "import pickle\n",
    "import zipfile\n",
    "import tarfile\n",
    "from azure.storage.blob import BlockBlobService\n",
    "\n",
    "from datetime import datetime, timedelta\n",
    "\n",
    "import numpy as np\n",
    "import pickle\n"
   ]
  },
  {
   "cell_type": "code",
   "execution_count": 16,
   "metadata": {},
   "outputs": [],
   "source": [
    "def downloadAndExtractFile(file):\n",
    "    local_file = os.path.join(globals.files_dir, file[file.rindex('/')+1:])\n",
    "    print (\"Downloading:\" , local_file)\n",
    "    urllib.request.urlretrieve (file, local_file)\n",
    "    \n",
    "    tar = tarfile.open(local_file)\n",
    "    tar.extractall(globals.files_dir)\n",
    "    tar.close()\n",
    "\n",
    "    os.remove(local_file)\n",
    "\n",
    "def downloadFile(file):\n",
    "    local_file = os.path.join(globals.files_dir, file[file.rindex('/')+1:])\n",
    "    print (\"Downloading:\" , local_file)\n",
    "    urllib.request.urlretrieve (file, local_file)\n",
    "    \n",
    "def uploadFiles(infile, outfile):\n",
    "    block_blob_service.create_blob_from_path(globals.blob_container_name, outfile, infile)\n"
   ]
  },
  {
   "cell_type": "code",
   "execution_count": 17,
   "metadata": {},
   "outputs": [],
   "source": [
    "file_date = str((datetime.now()  - timedelta(days=1)).strftime('%Y-%m-%d'))"
   ]
  },
  {
   "cell_type": "code",
   "execution_count": 18,
   "metadata": {},
   "outputs": [],
   "source": [
    "globals.resetDir(globals.files_dir)"
   ]
  },
  {
   "cell_type": "code",
   "execution_count": 19,
   "metadata": {},
   "outputs": [
    {
     "name": "stdout",
     "output_type": "stream",
     "text": [
      "Downloading: /datadrive2/processed/content/cord-19_2020-09-27.tar.gz\n",
      "Downloading: /datadrive2/processed/content/metadata.csv\n"
     ]
    }
   ],
   "source": [
    "file = 'https://ai2-semanticscholar-cord-19.s3-us-west-2.amazonaws.com/historical_releases/cord-19_' + file_date + '.tar.gz'\n",
    "downloadAndExtractFile(file)\n",
    "\n",
    "file = 'https://ai2-semanticscholar-cord-19.s3-us-west-2.amazonaws.com/latest/metadata.csv'\n",
    "downloadFile(file)"
   ]
  },
  {
   "cell_type": "code",
   "execution_count": 20,
   "metadata": {},
   "outputs": [],
   "source": [
    "local_file = globals.files_dir + '/'+ file_date + '/document_parses.tar.gz'\n",
    "tar = tarfile.open(local_file)\n",
    "tar.extractall(os.path.join(globals.files_dir))\n",
    "tar.close()\n"
   ]
  },
  {
   "cell_type": "code",
   "execution_count": 21,
   "metadata": {},
   "outputs": [],
   "source": [
    "block_blob_service = BlockBlobService(account_name=globals.blob_account_name, account_key=globals.blob_account_key)\n"
   ]
  },
  {
   "cell_type": "code",
   "execution_count": 22,
   "metadata": {},
   "outputs": [
    {
     "name": "stdout",
     "output_type": "stream",
     "text": [
      "File Count:  194102\n"
     ]
    }
   ],
   "source": [
    "files = globals.getFilesInDir(os.path.join(globals.files_dir, 'document_parses'))\n",
    "print ('File Count: ', len(files))"
   ]
  },
  {
   "cell_type": "code",
   "execution_count": 23,
   "metadata": {},
   "outputs": [],
   "source": [
    "# Get list of files existing in blob\n",
    "block_blob_service = BlockBlobService(account_name=globals.blob_account_name, account_key=globals.blob_account_key)\n",
    "generator = block_blob_service.list_blobs(globals.blob_container_name, globals.blob_container_path)\n",
    "\n",
    "# Add Blobs to a list\n",
    "blobs = []\n",
    "for blob in generator:\n",
    "    blobs.append(blob.name)"
   ]
  },
  {
   "cell_type": "code",
   "execution_count": 24,
   "metadata": {},
   "outputs": [
    {
     "name": "stdout",
     "output_type": "stream",
     "text": [
      "Total Blob Files: 194907\n"
     ]
    }
   ],
   "source": [
    "print ('Total Blob Files:', len(blobs))"
   ]
  },
  {
   "cell_type": "code",
   "execution_count": 25,
   "metadata": {},
   "outputs": [],
   "source": [
    "tmp_list = []\n",
    "for b in blobs:\n",
    "    txt_loc = b.find('json')\n",
    "    upd_file = os.path.join(globals.files_dir, 'document_parses') + b[txt_loc + len('json'):]\n",
    "    tmp_list.append(upd_file)\n",
    "\n",
    "new_files = np.setdiff1d(files, tmp_list)    "
   ]
  },
  {
   "cell_type": "code",
   "execution_count": 26,
   "metadata": {},
   "outputs": [
    {
     "name": "stdout",
     "output_type": "stream",
     "text": [
      "Total new files:  1941\n"
     ]
    }
   ],
   "source": [
    "print ('Total new files: ', len(new_files))"
   ]
  },
  {
   "cell_type": "code",
   "execution_count": 27,
   "metadata": {},
   "outputs": [
    {
     "name": "stdout",
     "output_type": "stream",
     "text": [
      "Uploaded: 1000\n",
      "Uploaded: 1941\n"
     ]
    }
   ],
   "source": [
    "counter = 0\n",
    "ovewwrite_if_exists = False\n",
    "for file in new_files:\n",
    "    uploadFiles(file, file.replace(os.path.join(globals.files_dir, 'document_parses'), 'json'))\n",
    "    counter += 1\n",
    "    if counter % 1000 == 0:\n",
    "        print (\"Uploaded:\", counter)\n",
    "print (\"Uploaded:\", counter)\n",
    "    \n",
    "    "
   ]
  },
  {
   "cell_type": "code",
   "execution_count": 28,
   "metadata": {},
   "outputs": [],
   "source": [
    "#Persist this list for later\n",
    "with open(os.path.join(globals.files_dir, 'new_files.pkl'), 'wb') as output:\n",
    "    pickle.dump(new_files, output, pickle.HIGHEST_PROTOCOL)"
   ]
  },
  {
   "cell_type": "code",
   "execution_count": null,
   "metadata": {},
   "outputs": [],
   "source": []
  }
 ],
 "metadata": {
  "kernelspec": {
   "display_name": "py37_default",
   "language": "python",
   "name": "conda-env-py37_default-py"
  },
  "language_info": {
   "codemirror_mode": {
    "name": "ipython",
    "version": 3
   },
   "file_extension": ".py",
   "mimetype": "text/x-python",
   "name": "python",
   "nbconvert_exporter": "python",
   "pygments_lexer": "ipython3",
   "version": "3.7.6"
  }
 },
 "nbformat": 4,
 "nbformat_minor": 4
}
