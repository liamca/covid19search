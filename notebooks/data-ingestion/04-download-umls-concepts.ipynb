{
 "cells": [
  {
   "cell_type": "code",
   "execution_count": 1,
   "metadata": {},
   "outputs": [],
   "source": [
    "import globals\n",
    "\n",
    "import os\n",
    "import urllib\n",
    "import urllib.request as request\n",
    "from contextlib import closing\n",
    "\n",
    "import pickle\n",
    "\n",
    "import zipfile\n"
   ]
  },
  {
   "cell_type": "code",
   "execution_count": 2,
   "metadata": {},
   "outputs": [
    {
     "name": "stdout",
     "output_type": "stream",
     "text": [
      "Downloading: /datadrive2/processed/umls/umls-2019AB-mrconso.zip\n"
     ]
    },
    {
     "data": {
      "text/plain": [
       "('/datadrive2/processed/umls/umls-2019AB-mrconso.zip',\n",
       " <http.client.HTTPMessage at 0x7f2304f95410>)"
      ]
     },
     "execution_count": 2,
     "metadata": {},
     "output_type": "execute_result"
    }
   ],
   "source": [
    "globals.resetDir(globals.umls_dir)\n",
    "\n",
    "print (\"Downloading:\" , globals.local_conso_file)\n",
    "urllib.request.urlretrieve (globals.conso_url, globals.local_conso_file)\n"
   ]
  },
  {
   "cell_type": "code",
   "execution_count": 3,
   "metadata": {},
   "outputs": [],
   "source": [
    "# Unzip the file\n",
    "with zipfile.ZipFile(globals.local_conso_file, 'r') as zip_ref:\n",
    "    zip_ref.extractall(globals.umls_dir)"
   ]
  },
  {
   "cell_type": "code",
   "execution_count": 4,
   "metadata": {},
   "outputs": [],
   "source": [
    "counter = 0\n",
    "umls_concept_dict = {}\n",
    "with open(globals.concepts_file, encoding='utf-8') as file_in:\n",
    "    for line in file_in:\n",
    "        f = line.split('|')\n",
    "        if f[1] == 'ENG' and f[2] == 'P' and f[4] == 'PF' and f[6] == 'Y':\n",
    "            umls_concept_dict[f[0]] = f[14]\n"
   ]
  },
  {
   "cell_type": "code",
   "execution_count": 5,
   "metadata": {},
   "outputs": [],
   "source": [
    "with open(os.path.join(globals.umls_dir, 'umls_concept_dict.pickle'), 'wb') as handle:\n",
    "    pickle.dump(umls_concept_dict, handle, protocol=pickle.HIGHEST_PROTOCOL)\n"
   ]
  },
  {
   "cell_type": "code",
   "execution_count": 6,
   "metadata": {},
   "outputs": [],
   "source": [
    "# with open(os.path.join(globals.umls_dir, 'umls_concept_dict.pickle'), 'rb') as handle:\n",
    "#     umls_concept_dict = pickle.load(handle)"
   ]
  },
  {
   "cell_type": "code",
   "execution_count": 7,
   "metadata": {},
   "outputs": [
    {
     "data": {
      "text/plain": [
       "'Mucopolysaccharidosis IV'"
      ]
     },
     "execution_count": 7,
     "metadata": {},
     "output_type": "execute_result"
    }
   ],
   "source": [
    "umls_concept_dict['C0026707']"
   ]
  },
  {
   "cell_type": "code",
   "execution_count": null,
   "metadata": {},
   "outputs": [],
   "source": []
  }
 ],
 "metadata": {
  "kernelspec": {
   "display_name": "py37_default",
   "language": "python",
   "name": "conda-env-py37_default-py"
  },
  "language_info": {
   "codemirror_mode": {
    "name": "ipython",
    "version": 3
   },
   "file_extension": ".py",
   "mimetype": "text/x-python",
   "name": "python",
   "nbconvert_exporter": "python",
   "pygments_lexer": "ipython3",
   "version": "3.7.6"
  }
 },
 "nbformat": 4,
 "nbformat_minor": 4
}
