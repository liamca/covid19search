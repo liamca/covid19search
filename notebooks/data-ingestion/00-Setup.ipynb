{
 "cells": [
  {
   "cell_type": "code",
   "execution_count": null,
   "metadata": {},
   "outputs": [],
   "source": [
    "# First go to https://www.kaggle.com/allen-institute-for-ai/CORD-19-research-challenge/data to get latest data\n",
    "# Extract and upload JSON to Blob container: azsdemos\\covid19\n",
    "\n",
    "# Ensure TA Medical NER Container is running:\n",
    "#     az container create --resource-group liamca-gpu-container-rg --name liamca-ta-health --image \"containerpreview.azurecr.io/microsoft/cognitive-services-healthcare:latest\" --cpu 4 --memory 12 --registry-login-server containerpreview.azurecr.io --registry-username [Registry Username] --registry-password [Registry Password]--port 5000 --dns-name-label \"liamca-ta-health\" --environment-variables Eula=accept Billing=https://westus2.api.cognitive.microsoft.com/ ApiKey=2704064390ed43e385fd9f4895a00660\n",
    "\n",
    "# Download the latest MRCONSO.RRF file from https://www.nlm.nih.gov/research/umls/licensedcontent/umlsknowledgesources.html to ./umls\n",
    "\n"
   ]
  }
 ],
 "metadata": {
  "kernelspec": {
   "display_name": "py37_default",
   "language": "python",
   "name": "conda-env-py37_default-py"
  },
  "language_info": {
   "codemirror_mode": {
    "name": "ipython",
    "version": 3
   },
   "file_extension": ".py",
   "mimetype": "text/x-python",
   "name": "python",
   "nbconvert_exporter": "python",
   "pygments_lexer": "ipython3",
   "version": "3.7.6"
  }
 },
 "nbformat": 4,
 "nbformat_minor": 4
}
